{
  "nbformat": 4,
  "nbformat_minor": 0,
  "metadata": {
    "colab": {
      "name": "Churn.ipynb",
      "provenance": [],
      "authorship_tag": "ABX9TyPU10y8TjhXiSA1Yb0eqKfF"
    },
    "kernelspec": {
      "name": "python3",
      "display_name": "Python 3"
    },
    "language_info": {
      "name": "python"
    }
  },
  "cells": [
    {
      "cell_type": "code",
      "source": [
        "!pip install -U scikit-learn\n"
      ],
      "metadata": {
        "colab": {
          "base_uri": "https://localhost:8080/"
        },
        "id": "BC42YbWFMdYA",
        "outputId": "d09845ef-e3e0-4f67-fb98-5dc2c0abf056"
      },
      "execution_count": 4,
      "outputs": [
        {
          "output_type": "stream",
          "name": "stdout",
          "text": [
            "Requirement already satisfied: scikit-learn in /usr/local/lib/python3.7/dist-packages (1.0.2)\n",
            "Requirement already satisfied: joblib>=0.11 in /usr/local/lib/python3.7/dist-packages (from scikit-learn) (1.1.0)\n",
            "Requirement already satisfied: scipy>=1.1.0 in /usr/local/lib/python3.7/dist-packages (from scikit-learn) (1.4.1)\n",
            "Requirement already satisfied: threadpoolctl>=2.0.0 in /usr/local/lib/python3.7/dist-packages (from scikit-learn) (3.1.0)\n",
            "Requirement already satisfied: numpy>=1.14.6 in /usr/local/lib/python3.7/dist-packages (from scikit-learn) (1.21.5)\n"
          ]
        }
      ]
    },
    {
      "cell_type": "code",
      "source": [
        "import sklearn\n",
        "from sklearn.svm import SVC\n",
        "from sklearn.model_selection import KFold\n",
        "from sklearn.preprocessing import StandardScaler\n",
        "from sklearn.model_selection import train_test_split\n",
        "from sklearn.svm import SVC\n",
        "from sklearn.ensemble import RandomForestClassifier as RF"
      ],
      "metadata": {
        "id": "6utInLl5Moub"
      },
      "execution_count": 15,
      "outputs": []
    },
    {
      "cell_type": "code",
      "source": [
        "from __future__ import division\n",
        "import pandas as pd\n",
        "import numpy as np\n",
        "import matplotlib.pyplot as plt\n",
        "import json"
      ],
      "metadata": {
        "id": "pCQay7XrNZzq"
      },
      "execution_count": 16,
      "outputs": []
    },
    {
      "cell_type": "code",
      "execution_count": 1,
      "metadata": {
        "colab": {
          "base_uri": "https://localhost:8080/"
        },
        "id": "avam3KWHLszf",
        "outputId": "d4919a02-7a8e-4574-a532-977d0cb91600"
      },
      "outputs": [
        {
          "output_type": "stream",
          "name": "stdout",
          "text": [
            "Mounted at /content/drive\n"
          ]
        }
      ],
      "source": [
        "from google.colab import drive\n",
        "drive.mount('/content/drive')"
      ]
    },
    {
      "cell_type": "code",
      "source": [
        ""
      ],
      "metadata": {
        "id": "o5nz8r3MRjog"
      },
      "execution_count": null,
      "outputs": []
    },
    {
      "cell_type": "code",
      "source": [
        "import pandas as pd\n",
        "path='/content/drive/MyDrive/Colab Notebooks/churn.csv'\n",
        "\n",
        "\n",
        "churn_df = pd.read_csv(path)\n",
        "col_names = churn_df.columns.tolist()\n",
        "\n"
      ],
      "metadata": {
        "id": "cnZORdOYL4sr"
      },
      "execution_count": 18,
      "outputs": []
    },
    {
      "cell_type": "code",
      "source": [
        "# Isolate target data\n",
        "churn_result = churn_df['Churn?']\n",
        "y = np.where(churn_result == 'True.',1,0)\n",
        "# We don't need these columns\n",
        "to_drop = ['State','Area Code','Phone','Churn?']\n",
        "churn_feat_space = churn_df.drop(to_drop,axis=1)\n",
        "# 'yes'/'no' has to be converted to boolean values\n",
        "# NumPy converts these from boolean to 1. and 0. later\n",
        "yes_no_cols = [\"Int'l Plan\",\"VMail Plan\"]\n",
        "churn_feat_space[yes_no_cols] = churn_feat_space[yes_no_cols] == 'yes'\n",
        "# Pull out features for future use\n",
        "features = churn_feat_space.columns"
      ],
      "metadata": {
        "id": "ZXINhtz9Nq3I"
      },
      "execution_count": 19,
      "outputs": []
    },
    {
      "cell_type": "code",
      "source": [
        "\n",
        "X = np.asmatrix(churn_feat_space).astype(np.float)\n",
        "# This is important\n",
        "scaler = StandardScaler()\n",
        "X = scaler.fit_transform(X)\n"
      ],
      "metadata": {
        "colab": {
          "base_uri": "https://localhost:8080/"
        },
        "id": "0u5_nsv8NtwF",
        "outputId": "8591518b-1d5d-4679-f744-010b07051688"
      },
      "execution_count": 24,
      "outputs": [
        {
          "output_type": "stream",
          "name": "stderr",
          "text": [
            "/usr/local/lib/python3.7/dist-packages/ipykernel_launcher.py:2: DeprecationWarning: `np.float` is a deprecated alias for the builtin `float`. To silence this warning, use `float` by itself. Doing this will not modify any behavior and is safe. If you specifically wanted the numpy scalar type, use `np.float64` here.\n",
            "Deprecated in NumPy 1.20; for more details and guidance: https://numpy.org/devdocs/release/1.20.0-notes.html#deprecations\n",
            "  \n",
            "/usr/local/lib/python3.7/dist-packages/sklearn/utils/validation.py:598: FutureWarning: np.matrix usage is deprecated in 1.0 and will raise a TypeError in 1.2. Please convert to a numpy array with np.asarray. For more information see: https://numpy.org/doc/stable/reference/generated/numpy.matrix.html\n",
            "  FutureWarning,\n",
            "/usr/local/lib/python3.7/dist-packages/sklearn/utils/validation.py:598: FutureWarning: np.matrix usage is deprecated in 1.0 and will raise a TypeError in 1.2. Please convert to a numpy array with np.asarray. For more information see: https://numpy.org/doc/stable/reference/generated/numpy.matrix.html\n",
            "  FutureWarning,\n"
          ]
        }
      ]
    },
    {
      "cell_type": "code",
      "source": [
        "def run_cv(X,y,clf_class,**kwargs):\n",
        "    # Construct a kfolds object\n",
        "    kf = KFold(len(y),n_folds=3,shuffle=True)\n",
        "    y_pred = y.copy()\n",
        "    \n",
        "    # Iterate through folds\n",
        "    for train_index, test_index in kf:\n",
        "        X_train, X_test = X[train_index], X[test_index]\n",
        "        y_train = y[train_index]\n",
        "        # Initialize a classifier with key word arguments\n",
        "        clf = clf_class(**kwargs)\n",
        "        clf.fit(X_train,y_train)\n",
        "        y_pred[test_index] = clf.predict(X_test)\n",
        "    return y_pred"
      ],
      "metadata": {
        "id": "8VsAQOtyOU3S"
      },
      "execution_count": 25,
      "outputs": []
    },
    {
      "cell_type": "code",
      "source": [
        "#Let's look at the Top 10 features in our dataset that contribute to customer churn:\n",
        "\n",
        "\n",
        "train_index,test_index = train_test_split(churn_df.index)\n",
        "\n",
        "forest = RF()\n",
        "forest_fit = forest.fit(X[train_index], y[train_index])\n",
        "forest_predictions = forest_fit.predict(X[test_index])\n",
        "\n",
        "importances = forest_fit.feature_importances_[:10]\n",
        "std = np.std([tree.feature_importances_ for tree in forest.estimators_],\n",
        "             axis=0)\n",
        "indices = np.argsort(importances)[::-1]\n",
        "\n",
        "# Print the feature ranking\n",
        "print(\"Feature ranking:\")\n",
        "\n",
        "for f in range(10):\n",
        "    print(\"%d. %s (%f)\" % (f + 1, features[f], importances[indices[f]]))\n",
        "\n",
        "# Plot the feature importances of the forest\n",
        "#import pylab as pl\n",
        "plt.figure()\n",
        "plt.title(\"Feature importances\")\n",
        "plt.bar(range(10), importances[indices], yerr=std[indices], color=\"r\", align=\"center\")\n",
        "plt.xticks(range(10), indices)\n",
        "plt.xlim([-1, 10])\n",
        "plt.show()"
      ],
      "metadata": {
        "colab": {
          "base_uri": "https://localhost:8080/",
          "height": 472
        },
        "id": "vEvekMnLPLP3",
        "outputId": "2a228d81-a991-43e1-a57c-b71de18a0019"
      },
      "execution_count": 28,
      "outputs": [
        {
          "output_type": "stream",
          "name": "stdout",
          "text": [
            "Feature ranking:\n",
            "1. Account Length (0.159359)\n",
            "2. Int'l Plan (0.127065)\n",
            "3. VMail Plan (0.079221)\n",
            "4. VMail Message (0.065943)\n",
            "5. Day Mins (0.065045)\n",
            "6. Day Calls (0.033539)\n",
            "7. Day Charge (0.032800)\n",
            "8. Eve Mins (0.032604)\n",
            "9. Eve Calls (0.027127)\n",
            "10. Eve Charge (0.022236)\n"
          ]
        },
        {
          "output_type": "display_data",
          "data": {
            "text/plain": [
              "<Figure size 432x288 with 1 Axes>"
            ],
            "image/png": "[encoded data removed]"
          },
          "metadata": {
            "needs_background": "light"
          }
        }
      ]
    }
  ]
}